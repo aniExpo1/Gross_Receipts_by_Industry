{
 "cells": [
  {
   "cell_type": "code",
   "execution_count": 139,
   "metadata": {
    "collapsed": true
   },
   "outputs": [],
   "source": [
    "import pandas as pd\n",
    "import numpy as np\n",
    "import matplotlib.pyplot as plt\n",
    "import seaborn as sns\n",
    "from decimal import Decimal\n",
    "from sklearn.preprocessing import StandardScaler\n",
    "%matplotlib inline\n"
   ]
  },
  {
   "cell_type": "code",
   "execution_count": 87,
   "metadata": {
    "collapsed": true
   },
   "outputs": [],
   "source": [
    "GRI_df = pd.read_csv(\"./data/Gross_Receipts_by_Industry.csv\")"
   ]
  },
  {
   "cell_type": "code",
   "execution_count": 88,
   "metadata": {},
   "outputs": [
    {
     "data": {
      "text/html": [
       "<div>\n",
       "<table border=\"1\" class=\"dataframe\">\n",
       "  <thead>\n",
       "    <tr style=\"text-align: right;\">\n",
       "      <th></th>\n",
       "      <th>TAX PERIOD</th>\n",
       "      <th>NAICS</th>\n",
       "      <th>PRIMARY NAICS DESCRIPTION</th>\n",
       "      <th>LOCATION COUNT</th>\n",
       "      <th>TOTAL MEASURE</th>\n",
       "    </tr>\n",
       "  </thead>\n",
       "  <tbody>\n",
       "    <tr>\n",
       "      <th>0</th>\n",
       "      <td>200500A</td>\n",
       "      <td>311600.0</td>\n",
       "      <td>Animal Slaughtering and Processing</td>\n",
       "      <td>4</td>\n",
       "      <td>$0.00</td>\n",
       "    </tr>\n",
       "    <tr>\n",
       "      <th>1</th>\n",
       "      <td>200500A</td>\n",
       "      <td>441210.0</td>\n",
       "      <td>Recreational vehicle dealers (including motor ...</td>\n",
       "      <td>1</td>\n",
       "      <td>$0.00</td>\n",
       "    </tr>\n",
       "    <tr>\n",
       "      <th>2</th>\n",
       "      <td>200500A</td>\n",
       "      <td>444110.0</td>\n",
       "      <td>Home centers</td>\n",
       "      <td>12</td>\n",
       "      <td>$53131236.00</td>\n",
       "    </tr>\n",
       "    <tr>\n",
       "      <th>3</th>\n",
       "      <td>200600A</td>\n",
       "      <td>326000.0</td>\n",
       "      <td>Plastics &amp; rubber products mfg.</td>\n",
       "      <td>36</td>\n",
       "      <td>$35542598.00</td>\n",
       "    </tr>\n",
       "    <tr>\n",
       "      <th>4</th>\n",
       "      <td>200600A</td>\n",
       "      <td>541360.0</td>\n",
       "      <td>Geophysical surveying &amp; mapping services</td>\n",
       "      <td>24</td>\n",
       "      <td>$4186978.00</td>\n",
       "    </tr>\n",
       "  </tbody>\n",
       "</table>\n",
       "</div>"
      ],
      "text/plain": [
       "  TAX PERIOD     NAICS                          PRIMARY NAICS DESCRIPTION  \\\n",
       "0    200500A  311600.0                Animal Slaughtering and Processing    \n",
       "1    200500A  441210.0  Recreational vehicle dealers (including motor ...   \n",
       "2    200500A  444110.0                                       Home centers   \n",
       "3    200600A  326000.0                    Plastics & rubber products mfg.   \n",
       "4    200600A  541360.0           Geophysical surveying & mapping services   \n",
       "\n",
       "   LOCATION COUNT TOTAL MEASURE  \n",
       "0               4         $0.00  \n",
       "1               1         $0.00  \n",
       "2              12  $53131236.00  \n",
       "3              36  $35542598.00  \n",
       "4              24   $4186978.00  "
      ]
     },
     "execution_count": 88,
     "metadata": {},
     "output_type": "execute_result"
    }
   ],
   "source": [
    "GRI_df.head()"
   ]
  },
  {
   "cell_type": "code",
   "execution_count": 89,
   "metadata": {},
   "outputs": [
    {
     "name": "stdout",
     "output_type": "stream",
     "text": [
      "<class 'pandas.core.frame.DataFrame'>\n",
      "RangeIndex: 3719 entries, 0 to 3718\n",
      "Data columns (total 5 columns):\n",
      "TAX PERIOD                   3719 non-null object\n",
      "NAICS                        3706 non-null float64\n",
      "PRIMARY NAICS DESCRIPTION    3706 non-null object\n",
      "LOCATION COUNT               3719 non-null int64\n",
      "TOTAL MEASURE                3719 non-null object\n",
      "dtypes: float64(1), int64(1), object(3)\n",
      "memory usage: 145.4+ KB\n"
     ]
    }
   ],
   "source": [
    "GRI_df.info()"
   ]
  },
  {
   "cell_type": "code",
   "execution_count": 90,
   "metadata": {},
   "outputs": [
    {
     "data": {
      "text/plain": [
       "TAX PERIOD                    0\n",
       "NAICS                        13\n",
       "PRIMARY NAICS DESCRIPTION    13\n",
       "LOCATION COUNT                0\n",
       "TOTAL MEASURE                 0\n",
       "dtype: int64"
      ]
     },
     "execution_count": 90,
     "metadata": {},
     "output_type": "execute_result"
    }
   ],
   "source": [
    "GRI_df.isnull().sum()"
   ]
  },
  {
   "cell_type": "code",
   "execution_count": 91,
   "metadata": {},
   "outputs": [
    {
     "data": {
      "image/png": "[encoded data removed]",
      "text/plain": [
       "<matplotlib.figure.Figure at 0x7f0f902b4fd0>"
      ]
     },
     "metadata": {},
     "output_type": "display_data"
    }
   ],
   "source": [
    "GRI_df[\"NAICS\"].plot(kind=\"hist\")\n",
    "plt.xlabel(\"NAICS\")\n",
    "plt.title(\"NAICS Distribution\")\n",
    "plt.show()"
   ]
  },
  {
   "cell_type": "markdown",
   "metadata": {},
   "source": [
    "* locating the NaN values"
   ]
  },
  {
   "cell_type": "code",
   "execution_count": 92,
   "metadata": {},
   "outputs": [
    {
     "data": {
      "text/html": [
       "<div>\n",
       "<table border=\"1\" class=\"dataframe\">\n",
       "  <thead>\n",
       "    <tr style=\"text-align: right;\">\n",
       "      <th></th>\n",
       "      <th>TAX PERIOD</th>\n",
       "      <th>NAICS</th>\n",
       "      <th>PRIMARY NAICS DESCRIPTION</th>\n",
       "      <th>LOCATION COUNT</th>\n",
       "      <th>TOTAL MEASURE</th>\n",
       "    </tr>\n",
       "  </thead>\n",
       "  <tbody>\n",
       "    <tr>\n",
       "      <th>353</th>\n",
       "      <td>201600A</td>\n",
       "      <td>NaN</td>\n",
       "      <td>NaN</td>\n",
       "      <td>79219</td>\n",
       "      <td>$25512012052.98</td>\n",
       "    </tr>\n",
       "    <tr>\n",
       "      <th>445</th>\n",
       "      <td>200500A</td>\n",
       "      <td>NaN</td>\n",
       "      <td>NaN</td>\n",
       "      <td>275449</td>\n",
       "      <td>$53876091824.76</td>\n",
       "    </tr>\n",
       "    <tr>\n",
       "      <th>618</th>\n",
       "      <td>200700A</td>\n",
       "      <td>NaN</td>\n",
       "      <td>NaN</td>\n",
       "      <td>279710</td>\n",
       "      <td>$56988318691.04</td>\n",
       "    </tr>\n",
       "    <tr>\n",
       "      <th>750</th>\n",
       "      <td>201400A</td>\n",
       "      <td>NaN</td>\n",
       "      <td>NaN</td>\n",
       "      <td>147999</td>\n",
       "      <td>$32560732877.31</td>\n",
       "    </tr>\n",
       "    <tr>\n",
       "      <th>1086</th>\n",
       "      <td>201500A</td>\n",
       "      <td>NaN</td>\n",
       "      <td>NaN</td>\n",
       "      <td>121720</td>\n",
       "      <td>$28330182828.78</td>\n",
       "    </tr>\n",
       "    <tr>\n",
       "      <th>1314</th>\n",
       "      <td>201700A</td>\n",
       "      <td>NaN</td>\n",
       "      <td>NaN</td>\n",
       "      <td>2494</td>\n",
       "      <td>$189467096.64</td>\n",
       "    </tr>\n",
       "    <tr>\n",
       "      <th>1315</th>\n",
       "      <td>201300A</td>\n",
       "      <td>NaN</td>\n",
       "      <td>NaN</td>\n",
       "      <td>170535</td>\n",
       "      <td>$36766679156.18</td>\n",
       "    </tr>\n",
       "    <tr>\n",
       "      <th>1547</th>\n",
       "      <td>201200A</td>\n",
       "      <td>NaN</td>\n",
       "      <td>NaN</td>\n",
       "      <td>187605</td>\n",
       "      <td>$39458834501.82</td>\n",
       "    </tr>\n",
       "    <tr>\n",
       "      <th>1904</th>\n",
       "      <td>200900A</td>\n",
       "      <td>NaN</td>\n",
       "      <td>NaN</td>\n",
       "      <td>238473</td>\n",
       "      <td>$53072021587.10</td>\n",
       "    </tr>\n",
       "    <tr>\n",
       "      <th>2414</th>\n",
       "      <td>200800A</td>\n",
       "      <td>NaN</td>\n",
       "      <td>NaN</td>\n",
       "      <td>257432</td>\n",
       "      <td>$56369945841.98</td>\n",
       "    </tr>\n",
       "    <tr>\n",
       "      <th>3003</th>\n",
       "      <td>201100A</td>\n",
       "      <td>NaN</td>\n",
       "      <td>NaN</td>\n",
       "      <td>203984</td>\n",
       "      <td>$41693287954.11</td>\n",
       "    </tr>\n",
       "    <tr>\n",
       "      <th>3630</th>\n",
       "      <td>200600A</td>\n",
       "      <td>NaN</td>\n",
       "      <td>NaN</td>\n",
       "      <td>286154</td>\n",
       "      <td>$55416867104.18</td>\n",
       "    </tr>\n",
       "    <tr>\n",
       "      <th>3672</th>\n",
       "      <td>201000A</td>\n",
       "      <td>NaN</td>\n",
       "      <td>NaN</td>\n",
       "      <td>219985</td>\n",
       "      <td>$45272574796.85</td>\n",
       "    </tr>\n",
       "  </tbody>\n",
       "</table>\n",
       "</div>"
      ],
      "text/plain": [
       "     TAX PERIOD  NAICS PRIMARY NAICS DESCRIPTION  LOCATION COUNT  \\\n",
       "353     201600A    NaN                       NaN           79219   \n",
       "445     200500A    NaN                       NaN          275449   \n",
       "618     200700A    NaN                       NaN          279710   \n",
       "750     201400A    NaN                       NaN          147999   \n",
       "1086    201500A    NaN                       NaN          121720   \n",
       "1314    201700A    NaN                       NaN            2494   \n",
       "1315    201300A    NaN                       NaN          170535   \n",
       "1547    201200A    NaN                       NaN          187605   \n",
       "1904    200900A    NaN                       NaN          238473   \n",
       "2414    200800A    NaN                       NaN          257432   \n",
       "3003    201100A    NaN                       NaN          203984   \n",
       "3630    200600A    NaN                       NaN          286154   \n",
       "3672    201000A    NaN                       NaN          219985   \n",
       "\n",
       "        TOTAL MEASURE  \n",
       "353   $25512012052.98  \n",
       "445   $53876091824.76  \n",
       "618   $56988318691.04  \n",
       "750   $32560732877.31  \n",
       "1086  $28330182828.78  \n",
       "1314    $189467096.64  \n",
       "1315  $36766679156.18  \n",
       "1547  $39458834501.82  \n",
       "1904  $53072021587.10  \n",
       "2414  $56369945841.98  \n",
       "3003  $41693287954.11  \n",
       "3630  $55416867104.18  \n",
       "3672  $45272574796.85  "
      ]
     },
     "execution_count": 92,
     "metadata": {},
     "output_type": "execute_result"
    }
   ],
   "source": [
    "GRI_df[GRI_df.isnull().any(axis=1)]\n"
   ]
  },
  {
   "cell_type": "code",
   "execution_count": 93,
   "metadata": {
    "collapsed": true
   },
   "outputs": [],
   "source": [
    "GRI_df[\"NAICS\"].fillna((GRI_df[\"NAICS\"].mean()), inplace= True)"
   ]
  },
  {
   "cell_type": "markdown",
   "metadata": {},
   "source": [
    "## Turn Total Measure to Numeric"
   ]
  },
  {
   "cell_type": "code",
   "execution_count": 94,
   "metadata": {
    "collapsed": true
   },
   "outputs": [],
   "source": [
    "#removing the dollar sign\n",
    "GRI_df[\"TOTAL MEASURE\"] =GRI_df[\"TOTAL MEASURE\"].apply(lambda x:x.strip('$'))"
   ]
  },
  {
   "cell_type": "code",
   "execution_count": 95,
   "metadata": {},
   "outputs": [
    {
     "data": {
      "text/plain": [
       "'18288252.00'"
      ]
     },
     "execution_count": 95,
     "metadata": {},
     "output_type": "execute_result"
    }
   ],
   "source": [
    "GRI_df[\"TOTAL MEASURE\"][10]"
   ]
  },
  {
   "cell_type": "code",
   "execution_count": 99,
   "metadata": {},
   "outputs": [
    {
     "data": {
      "text/plain": [
       "dtype('float64')"
      ]
     },
     "execution_count": 99,
     "metadata": {},
     "output_type": "execute_result"
    }
   ],
   "source": [
    "GRI_df[\"TOTAL MEASURE\"].dtype"
   ]
  },
  {
   "cell_type": "code",
   "execution_count": 100,
   "metadata": {
    "collapsed": true
   },
   "outputs": [],
   "source": [
    "GRI_df[\"TOTAL MEASURE\"] = GRI_df[\"TOTAL MEASURE\"].astype(float)"
   ]
  },
  {
   "cell_type": "code",
   "execution_count": 101,
   "metadata": {},
   "outputs": [
    {
     "data": {
      "image/png": "[encoded data removed]",
      "text/plain": [
       "<matplotlib.figure.Figure at 0x7f0f903a4b38>"
      ]
     },
     "metadata": {},
     "output_type": "display_data"
    }
   ],
   "source": [
    "x = GRI_df[\"NAICS\"]\n",
    "plt.figure(figsize=(10,6))\n",
    "plt.hist(x, bins=25)\n",
    "plt.xlabel(\"NAICS\")\n",
    "plt.show()"
   ]
  },
  {
   "cell_type": "code",
   "execution_count": 125,
   "metadata": {},
   "outputs": [
    {
     "data": {
      "image/png": "[encoded data removed]",
      "text/plain": [
       "<matplotlib.figure.Figure at 0x7f0f8d3ace80>"
      ]
     },
     "metadata": {},
     "output_type": "display_data"
    }
   ],
   "source": [
    "x = GRI_df[\"TOTAL MEASURE\"]\n",
    "plt.figure(figsize=(10,6))\n",
    "plt.hist(x, bins=25)\n",
    "plt.xlabel(\"Total Measure\")\n",
    "plt.show()\n"
   ]
  },
  {
   "cell_type": "code",
   "execution_count": 143,
   "metadata": {},
   "outputs": [
    {
     "data": {
      "text/plain": [
       "619132342.66667914"
      ]
     },
     "execution_count": 143,
     "metadata": {},
     "output_type": "execute_result"
    }
   ],
   "source": [
    "np.mean(GRI_df[\"TOTAL MEASURE\"])"
   ]
  },
  {
   "cell_type": "code",
   "execution_count": 144,
   "metadata": {},
   "outputs": [
    {
     "data": {
      "text/plain": [
       "56988318691.040001"
      ]
     },
     "execution_count": 144,
     "metadata": {},
     "output_type": "execute_result"
    }
   ],
   "source": [
    "np.max(GRI_df[\"TOTAL MEASURE\"])"
   ]
  },
  {
   "cell_type": "code",
   "execution_count": 145,
   "metadata": {},
   "outputs": [
    {
     "data": {
      "text/plain": [
       "0.0"
      ]
     },
     "execution_count": 145,
     "metadata": {},
     "output_type": "execute_result"
    }
   ],
   "source": [
    "np.min(GRI_df[\"TOTAL MEASURE\"])"
   ]
  },
  {
   "cell_type": "code",
   "execution_count": 153,
   "metadata": {},
   "outputs": [
    {
     "data": {
      "text/html": [
       "<div>\n",
       "<table border=\"1\" class=\"dataframe\">\n",
       "  <thead>\n",
       "    <tr style=\"text-align: right;\">\n",
       "      <th></th>\n",
       "      <th>TAX PERIOD</th>\n",
       "      <th>NAICS</th>\n",
       "      <th>PRIMARY NAICS DESCRIPTION</th>\n",
       "      <th>LOCATION COUNT</th>\n",
       "      <th>TOTAL MEASURE</th>\n",
       "    </tr>\n",
       "  </thead>\n",
       "  <tbody>\n",
       "    <tr>\n",
       "      <th>618</th>\n",
       "      <td>200700A</td>\n",
       "      <td>495156.411765</td>\n",
       "      <td>NaN</td>\n",
       "      <td>279710</td>\n",
       "      <td>5.698832e+10</td>\n",
       "    </tr>\n",
       "  </tbody>\n",
       "</table>\n",
       "</div>"
      ],
      "text/plain": [
       "    TAX PERIOD          NAICS PRIMARY NAICS DESCRIPTION  LOCATION COUNT  \\\n",
       "618    200700A  495156.411765                       NaN          279710   \n",
       "\n",
       "     TOTAL MEASURE  \n",
       "618   5.698832e+10  "
      ]
     },
     "execution_count": 153,
     "metadata": {},
     "output_type": "execute_result"
    }
   ],
   "source": [
    "GRI_df.groupby([\"TOTAL MEASURE\"]).get_group(56988318691.040001)"
   ]
  },
  {
   "cell_type": "code",
   "execution_count": 154,
   "metadata": {},
   "outputs": [
    {
     "data": {
      "text/html": [
       "<div>\n",
       "<table border=\"1\" class=\"dataframe\">\n",
       "  <thead>\n",
       "    <tr style=\"text-align: right;\">\n",
       "      <th></th>\n",
       "      <th>TAX PERIOD</th>\n",
       "      <th>NAICS</th>\n",
       "      <th>PRIMARY NAICS DESCRIPTION</th>\n",
       "      <th>LOCATION COUNT</th>\n",
       "      <th>TOTAL MEASURE</th>\n",
       "    </tr>\n",
       "  </thead>\n",
       "  <tbody>\n",
       "    <tr>\n",
       "      <th>0</th>\n",
       "      <td>200500A</td>\n",
       "      <td>311600.0</td>\n",
       "      <td>Animal Slaughtering and Processing</td>\n",
       "      <td>4</td>\n",
       "      <td>0.0</td>\n",
       "    </tr>\n",
       "    <tr>\n",
       "      <th>1</th>\n",
       "      <td>200500A</td>\n",
       "      <td>441210.0</td>\n",
       "      <td>Recreational vehicle dealers (including motor ...</td>\n",
       "      <td>1</td>\n",
       "      <td>0.0</td>\n",
       "    </tr>\n",
       "    <tr>\n",
       "      <th>8</th>\n",
       "      <td>200500A</td>\n",
       "      <td>513330.0</td>\n",
       "      <td>Telecommunications Resellers</td>\n",
       "      <td>1</td>\n",
       "      <td>0.0</td>\n",
       "    </tr>\n",
       "    <tr>\n",
       "      <th>13</th>\n",
       "      <td>200600A</td>\n",
       "      <td>441210.0</td>\n",
       "      <td>Recreational vehicle dealers (including motor ...</td>\n",
       "      <td>1</td>\n",
       "      <td>0.0</td>\n",
       "    </tr>\n",
       "    <tr>\n",
       "      <th>14</th>\n",
       "      <td>200600A</td>\n",
       "      <td>485410.0</td>\n",
       "      <td>School &amp; employee bus transportation</td>\n",
       "      <td>12</td>\n",
       "      <td>0.0</td>\n",
       "    </tr>\n",
       "    <tr>\n",
       "      <th>19</th>\n",
       "      <td>200600A</td>\n",
       "      <td>712100.0</td>\n",
       "      <td>Museums, historical sites, &amp; similar institutions</td>\n",
       "      <td>2</td>\n",
       "      <td>0.0</td>\n",
       "    </tr>\n",
       "    <tr>\n",
       "      <th>24</th>\n",
       "      <td>200700A</td>\n",
       "      <td>441210.0</td>\n",
       "      <td>Recreational vehicle dealers (including motor ...</td>\n",
       "      <td>3</td>\n",
       "      <td>0.0</td>\n",
       "    </tr>\n",
       "    <tr>\n",
       "      <th>33</th>\n",
       "      <td>200800A</td>\n",
       "      <td>712100.0</td>\n",
       "      <td>Museums, historical sites, &amp; similar institutions</td>\n",
       "      <td>4</td>\n",
       "      <td>0.0</td>\n",
       "    </tr>\n",
       "    <tr>\n",
       "      <th>36</th>\n",
       "      <td>200600A</td>\n",
       "      <td>454112.0</td>\n",
       "      <td>Electronic auctions</td>\n",
       "      <td>2</td>\n",
       "      <td>0.0</td>\n",
       "    </tr>\n",
       "    <tr>\n",
       "      <th>76</th>\n",
       "      <td>201700A</td>\n",
       "      <td>523130.0</td>\n",
       "      <td>Commodity contracts dealers</td>\n",
       "      <td>4</td>\n",
       "      <td>0.0</td>\n",
       "    </tr>\n",
       "    <tr>\n",
       "      <th>85</th>\n",
       "      <td>201700A</td>\n",
       "      <td>423700.0</td>\n",
       "      <td>Hardware, &amp; plumbing &amp; heating equipment  &amp; su...</td>\n",
       "      <td>2</td>\n",
       "      <td>0.0</td>\n",
       "    </tr>\n",
       "    <tr>\n",
       "      <th>92</th>\n",
       "      <td>201200A</td>\n",
       "      <td>561621.0</td>\n",
       "      <td>Security Systems Services (except locksmiths)</td>\n",
       "      <td>1</td>\n",
       "      <td>0.0</td>\n",
       "    </tr>\n",
       "    <tr>\n",
       "      <th>93</th>\n",
       "      <td>200600A</td>\n",
       "      <td>235810.0</td>\n",
       "      <td>Water Well Drilling Contractors (1997 NAICS)</td>\n",
       "      <td>4</td>\n",
       "      <td>0.0</td>\n",
       "    </tr>\n",
       "    <tr>\n",
       "      <th>109</th>\n",
       "      <td>201700A</td>\n",
       "      <td>811420.0</td>\n",
       "      <td>Reupholstery &amp; furniture repair</td>\n",
       "      <td>3</td>\n",
       "      <td>0.0</td>\n",
       "    </tr>\n",
       "    <tr>\n",
       "      <th>148</th>\n",
       "      <td>201700A</td>\n",
       "      <td>312000.0</td>\n",
       "      <td>Beverage &amp; tobacco product mfg.</td>\n",
       "      <td>1</td>\n",
       "      <td>0.0</td>\n",
       "    </tr>\n",
       "    <tr>\n",
       "      <th>189</th>\n",
       "      <td>200700A</td>\n",
       "      <td>485210.0</td>\n",
       "      <td>Interurban &amp; rural bus transportation</td>\n",
       "      <td>9</td>\n",
       "      <td>0.0</td>\n",
       "    </tr>\n",
       "    <tr>\n",
       "      <th>211</th>\n",
       "      <td>201700A</td>\n",
       "      <td>234110.0</td>\n",
       "      <td>Highway and Street Construction (1997 NAICS)</td>\n",
       "      <td>1</td>\n",
       "      <td>0.0</td>\n",
       "    </tr>\n",
       "    <tr>\n",
       "      <th>232</th>\n",
       "      <td>200500A</td>\n",
       "      <td>235810.0</td>\n",
       "      <td>Water Well Drilling Contractors (1997 NAICS)</td>\n",
       "      <td>2</td>\n",
       "      <td>0.0</td>\n",
       "    </tr>\n",
       "    <tr>\n",
       "      <th>239</th>\n",
       "      <td>200700A</td>\n",
       "      <td>454112.0</td>\n",
       "      <td>Electronic auctions</td>\n",
       "      <td>4</td>\n",
       "      <td>0.0</td>\n",
       "    </tr>\n",
       "    <tr>\n",
       "      <th>248</th>\n",
       "      <td>200700A</td>\n",
       "      <td>485410.0</td>\n",
       "      <td>School &amp; employee bus transportation</td>\n",
       "      <td>12</td>\n",
       "      <td>0.0</td>\n",
       "    </tr>\n",
       "    <tr>\n",
       "      <th>253</th>\n",
       "      <td>200800A</td>\n",
       "      <td>485410.0</td>\n",
       "      <td>School &amp; employee bus transportation</td>\n",
       "      <td>14</td>\n",
       "      <td>0.0</td>\n",
       "    </tr>\n",
       "    <tr>\n",
       "      <th>277</th>\n",
       "      <td>201400A</td>\n",
       "      <td>221000.0</td>\n",
       "      <td>Utilities</td>\n",
       "      <td>1</td>\n",
       "      <td>0.0</td>\n",
       "    </tr>\n",
       "    <tr>\n",
       "      <th>293</th>\n",
       "      <td>201500A</td>\n",
       "      <td>221000.0</td>\n",
       "      <td>Utilities</td>\n",
       "      <td>1</td>\n",
       "      <td>0.0</td>\n",
       "    </tr>\n",
       "    <tr>\n",
       "      <th>300</th>\n",
       "      <td>201700A</td>\n",
       "      <td>888888.0</td>\n",
       "      <td>Medical Marijuana Collective</td>\n",
       "      <td>3</td>\n",
       "      <td>0.0</td>\n",
       "    </tr>\n",
       "    <tr>\n",
       "      <th>462</th>\n",
       "      <td>201700A</td>\n",
       "      <td>523120.0</td>\n",
       "      <td>Securities brokers</td>\n",
       "      <td>1</td>\n",
       "      <td>0.0</td>\n",
       "    </tr>\n",
       "    <tr>\n",
       "      <th>479</th>\n",
       "      <td>201600A</td>\n",
       "      <td>221000.0</td>\n",
       "      <td>Utilities</td>\n",
       "      <td>1</td>\n",
       "      <td>0.0</td>\n",
       "    </tr>\n",
       "    <tr>\n",
       "      <th>529</th>\n",
       "      <td>201700A</td>\n",
       "      <td>322000.0</td>\n",
       "      <td>Paper mfg.</td>\n",
       "      <td>2</td>\n",
       "      <td>0.0</td>\n",
       "    </tr>\n",
       "    <tr>\n",
       "      <th>656</th>\n",
       "      <td>201700A</td>\n",
       "      <td>234920.0</td>\n",
       "      <td>Power and Communication Transmission Line Cons...</td>\n",
       "      <td>3</td>\n",
       "      <td>0.0</td>\n",
       "    </tr>\n",
       "    <tr>\n",
       "      <th>799</th>\n",
       "      <td>201700A</td>\n",
       "      <td>424600.0</td>\n",
       "      <td>Chemical &amp; allied products</td>\n",
       "      <td>2</td>\n",
       "      <td>0.0</td>\n",
       "    </tr>\n",
       "    <tr>\n",
       "      <th>968</th>\n",
       "      <td>200500A</td>\n",
       "      <td>713200.0</td>\n",
       "      <td>Gambling industries</td>\n",
       "      <td>2</td>\n",
       "      <td>0.0</td>\n",
       "    </tr>\n",
       "    <tr>\n",
       "      <th>...</th>\n",
       "      <td>...</td>\n",
       "      <td>...</td>\n",
       "      <td>...</td>\n",
       "      <td>...</td>\n",
       "      <td>...</td>\n",
       "    </tr>\n",
       "    <tr>\n",
       "      <th>2871</th>\n",
       "      <td>201700A</td>\n",
       "      <td>234990.0</td>\n",
       "      <td>Other Heavy and Civil Engineering Construction</td>\n",
       "      <td>1</td>\n",
       "      <td>0.0</td>\n",
       "    </tr>\n",
       "    <tr>\n",
       "      <th>2890</th>\n",
       "      <td>201700A</td>\n",
       "      <td>485510.0</td>\n",
       "      <td>Charter bus industry</td>\n",
       "      <td>1</td>\n",
       "      <td>0.0</td>\n",
       "    </tr>\n",
       "    <tr>\n",
       "      <th>2910</th>\n",
       "      <td>201700A</td>\n",
       "      <td>423500.0</td>\n",
       "      <td>Metal &amp; mineral (except petroleum)</td>\n",
       "      <td>4</td>\n",
       "      <td>0.0</td>\n",
       "    </tr>\n",
       "    <tr>\n",
       "      <th>2913</th>\n",
       "      <td>201700A</td>\n",
       "      <td>326000.0</td>\n",
       "      <td>Plastics &amp; rubber products mfg.</td>\n",
       "      <td>2</td>\n",
       "      <td>0.0</td>\n",
       "    </tr>\n",
       "    <tr>\n",
       "      <th>2947</th>\n",
       "      <td>201700A</td>\n",
       "      <td>561420.0</td>\n",
       "      <td>Telephone call centers (including telephone an...</td>\n",
       "      <td>2</td>\n",
       "      <td>0.0</td>\n",
       "    </tr>\n",
       "    <tr>\n",
       "      <th>2949</th>\n",
       "      <td>201700A</td>\n",
       "      <td>523110.0</td>\n",
       "      <td>Investment bankers &amp; securities dealers</td>\n",
       "      <td>3</td>\n",
       "      <td>0.0</td>\n",
       "    </tr>\n",
       "    <tr>\n",
       "      <th>2959</th>\n",
       "      <td>201700A</td>\n",
       "      <td>321000.0</td>\n",
       "      <td>Wood product mfg.</td>\n",
       "      <td>4</td>\n",
       "      <td>0.0</td>\n",
       "    </tr>\n",
       "    <tr>\n",
       "      <th>2963</th>\n",
       "      <td>201700A</td>\n",
       "      <td>313000.0</td>\n",
       "      <td>Textile mills</td>\n",
       "      <td>2</td>\n",
       "      <td>0.0</td>\n",
       "    </tr>\n",
       "    <tr>\n",
       "      <th>3004</th>\n",
       "      <td>201700A</td>\n",
       "      <td>454112.0</td>\n",
       "      <td>Electronic auctions</td>\n",
       "      <td>4</td>\n",
       "      <td>0.0</td>\n",
       "    </tr>\n",
       "    <tr>\n",
       "      <th>3022</th>\n",
       "      <td>201700A</td>\n",
       "      <td>448320.0</td>\n",
       "      <td>Luggage &amp; leather goods stores</td>\n",
       "      <td>2</td>\n",
       "      <td>0.0</td>\n",
       "    </tr>\n",
       "    <tr>\n",
       "      <th>3036</th>\n",
       "      <td>201700A</td>\n",
       "      <td>233310.0</td>\n",
       "      <td>Manufacturing and Industrial Building Construc...</td>\n",
       "      <td>2</td>\n",
       "      <td>0.0</td>\n",
       "    </tr>\n",
       "    <tr>\n",
       "      <th>3058</th>\n",
       "      <td>201700A</td>\n",
       "      <td>721310.0</td>\n",
       "      <td>Rooming &amp; boarding houses</td>\n",
       "      <td>3</td>\n",
       "      <td>0.0</td>\n",
       "    </tr>\n",
       "    <tr>\n",
       "      <th>3174</th>\n",
       "      <td>201700A</td>\n",
       "      <td>235810.0</td>\n",
       "      <td>Water Well Drilling Contractors (1997 NAICS)</td>\n",
       "      <td>1</td>\n",
       "      <td>0.0</td>\n",
       "    </tr>\n",
       "    <tr>\n",
       "      <th>3196</th>\n",
       "      <td>200800A</td>\n",
       "      <td>485210.0</td>\n",
       "      <td>Interurban &amp; rural bus transportation</td>\n",
       "      <td>11</td>\n",
       "      <td>0.0</td>\n",
       "    </tr>\n",
       "    <tr>\n",
       "      <th>3229</th>\n",
       "      <td>201700A</td>\n",
       "      <td>423300.0</td>\n",
       "      <td>Lumber &amp; other construction materials</td>\n",
       "      <td>2</td>\n",
       "      <td>0.0</td>\n",
       "    </tr>\n",
       "    <tr>\n",
       "      <th>3299</th>\n",
       "      <td>201700A</td>\n",
       "      <td>541360.0</td>\n",
       "      <td>Geophysical surveying &amp; mapping services</td>\n",
       "      <td>2</td>\n",
       "      <td>0.0</td>\n",
       "    </tr>\n",
       "    <tr>\n",
       "      <th>3302</th>\n",
       "      <td>201700A</td>\n",
       "      <td>453930.0</td>\n",
       "      <td>Manufacture (mobile) home dealers</td>\n",
       "      <td>2</td>\n",
       "      <td>0.0</td>\n",
       "    </tr>\n",
       "    <tr>\n",
       "      <th>3316</th>\n",
       "      <td>201700A</td>\n",
       "      <td>441110.0</td>\n",
       "      <td>New car dealers</td>\n",
       "      <td>2</td>\n",
       "      <td>0.0</td>\n",
       "    </tr>\n",
       "    <tr>\n",
       "      <th>3345</th>\n",
       "      <td>201100A</td>\n",
       "      <td>485410.0</td>\n",
       "      <td>School &amp; employee bus transportation</td>\n",
       "      <td>17</td>\n",
       "      <td>0.0</td>\n",
       "    </tr>\n",
       "    <tr>\n",
       "      <th>3365</th>\n",
       "      <td>200900A</td>\n",
       "      <td>485410.0</td>\n",
       "      <td>School &amp; employee bus transportation</td>\n",
       "      <td>15</td>\n",
       "      <td>0.0</td>\n",
       "    </tr>\n",
       "    <tr>\n",
       "      <th>3377</th>\n",
       "      <td>200600A</td>\n",
       "      <td>713200.0</td>\n",
       "      <td>Gambling industries</td>\n",
       "      <td>4</td>\n",
       "      <td>0.0</td>\n",
       "    </tr>\n",
       "    <tr>\n",
       "      <th>3443</th>\n",
       "      <td>201700A</td>\n",
       "      <td>561440.0</td>\n",
       "      <td>Collection agencies</td>\n",
       "      <td>2</td>\n",
       "      <td>0.0</td>\n",
       "    </tr>\n",
       "    <tr>\n",
       "      <th>3464</th>\n",
       "      <td>201700A</td>\n",
       "      <td>325900.0</td>\n",
       "      <td>Other chemical products &amp; preparation mfg.</td>\n",
       "      <td>3</td>\n",
       "      <td>0.0</td>\n",
       "    </tr>\n",
       "    <tr>\n",
       "      <th>3493</th>\n",
       "      <td>201700A</td>\n",
       "      <td>425110.0</td>\n",
       "      <td>Business to business electronic markets</td>\n",
       "      <td>3</td>\n",
       "      <td>0.0</td>\n",
       "    </tr>\n",
       "    <tr>\n",
       "      <th>3559</th>\n",
       "      <td>201700A</td>\n",
       "      <td>447100.0</td>\n",
       "      <td>Gasoline stations (including convenience store...</td>\n",
       "      <td>3</td>\n",
       "      <td>0.0</td>\n",
       "    </tr>\n",
       "    <tr>\n",
       "      <th>3584</th>\n",
       "      <td>201700A</td>\n",
       "      <td>446130.0</td>\n",
       "      <td>Optical goods stores</td>\n",
       "      <td>4</td>\n",
       "      <td>0.0</td>\n",
       "    </tr>\n",
       "    <tr>\n",
       "      <th>3624</th>\n",
       "      <td>201700A</td>\n",
       "      <td>561710.0</td>\n",
       "      <td>Exterminating &amp; pest control services</td>\n",
       "      <td>4</td>\n",
       "      <td>0.0</td>\n",
       "    </tr>\n",
       "    <tr>\n",
       "      <th>3666</th>\n",
       "      <td>201700A</td>\n",
       "      <td>484200.0</td>\n",
       "      <td>Specialized freight trucking (including househ...</td>\n",
       "      <td>4</td>\n",
       "      <td>0.0</td>\n",
       "    </tr>\n",
       "    <tr>\n",
       "      <th>3706</th>\n",
       "      <td>201700A</td>\n",
       "      <td>722410.0</td>\n",
       "      <td>Drinking places (alcoholic beverages)</td>\n",
       "      <td>3</td>\n",
       "      <td>0.0</td>\n",
       "    </tr>\n",
       "    <tr>\n",
       "      <th>3714</th>\n",
       "      <td>201700A</td>\n",
       "      <td>561450.0</td>\n",
       "      <td>Credit bureaus</td>\n",
       "      <td>1</td>\n",
       "      <td>0.0</td>\n",
       "    </tr>\n",
       "  </tbody>\n",
       "</table>\n",
       "<p>97 rows × 5 columns</p>\n",
       "</div>"
      ],
      "text/plain": [
       "     TAX PERIOD     NAICS                          PRIMARY NAICS DESCRIPTION  \\\n",
       "0       200500A  311600.0                Animal Slaughtering and Processing    \n",
       "1       200500A  441210.0  Recreational vehicle dealers (including motor ...   \n",
       "8       200500A  513330.0                       Telecommunications Resellers   \n",
       "13      200600A  441210.0  Recreational vehicle dealers (including motor ...   \n",
       "14      200600A  485410.0               School & employee bus transportation   \n",
       "19      200600A  712100.0  Museums, historical sites, & similar institutions   \n",
       "24      200700A  441210.0  Recreational vehicle dealers (including motor ...   \n",
       "33      200800A  712100.0  Museums, historical sites, & similar institutions   \n",
       "36      200600A  454112.0                                Electronic auctions   \n",
       "76      201700A  523130.0                        Commodity contracts dealers   \n",
       "85      201700A  423700.0  Hardware, & plumbing & heating equipment  & su...   \n",
       "92      201200A  561621.0      Security Systems Services (except locksmiths)   \n",
       "93      200600A  235810.0       Water Well Drilling Contractors (1997 NAICS)   \n",
       "109     201700A  811420.0                    Reupholstery & furniture repair   \n",
       "148     201700A  312000.0                    Beverage & tobacco product mfg.   \n",
       "189     200700A  485210.0              Interurban & rural bus transportation   \n",
       "211     201700A  234110.0       Highway and Street Construction (1997 NAICS)   \n",
       "232     200500A  235810.0       Water Well Drilling Contractors (1997 NAICS)   \n",
       "239     200700A  454112.0                                Electronic auctions   \n",
       "248     200700A  485410.0               School & employee bus transportation   \n",
       "253     200800A  485410.0               School & employee bus transportation   \n",
       "277     201400A  221000.0                                          Utilities   \n",
       "293     201500A  221000.0                                          Utilities   \n",
       "300     201700A  888888.0                       Medical Marijuana Collective   \n",
       "462     201700A  523120.0                                 Securities brokers   \n",
       "479     201600A  221000.0                                          Utilities   \n",
       "529     201700A  322000.0                                         Paper mfg.   \n",
       "656     201700A  234920.0  Power and Communication Transmission Line Cons...   \n",
       "799     201700A  424600.0                         Chemical & allied products   \n",
       "968     200500A  713200.0                                Gambling industries   \n",
       "...         ...       ...                                                ...   \n",
       "2871    201700A  234990.0     Other Heavy and Civil Engineering Construction   \n",
       "2890    201700A  485510.0                               Charter bus industry   \n",
       "2910    201700A  423500.0                 Metal & mineral (except petroleum)   \n",
       "2913    201700A  326000.0                    Plastics & rubber products mfg.   \n",
       "2947    201700A  561420.0  Telephone call centers (including telephone an...   \n",
       "2949    201700A  523110.0            Investment bankers & securities dealers   \n",
       "2959    201700A  321000.0                                  Wood product mfg.   \n",
       "2963    201700A  313000.0                                      Textile mills   \n",
       "3004    201700A  454112.0                                Electronic auctions   \n",
       "3022    201700A  448320.0                     Luggage & leather goods stores   \n",
       "3036    201700A  233310.0  Manufacturing and Industrial Building Construc...   \n",
       "3058    201700A  721310.0                          Rooming & boarding houses   \n",
       "3174    201700A  235810.0       Water Well Drilling Contractors (1997 NAICS)   \n",
       "3196    200800A  485210.0              Interurban & rural bus transportation   \n",
       "3229    201700A  423300.0              Lumber & other construction materials   \n",
       "3299    201700A  541360.0           Geophysical surveying & mapping services   \n",
       "3302    201700A  453930.0                  Manufacture (mobile) home dealers   \n",
       "3316    201700A  441110.0                                    New car dealers   \n",
       "3345    201100A  485410.0               School & employee bus transportation   \n",
       "3365    200900A  485410.0               School & employee bus transportation   \n",
       "3377    200600A  713200.0                                Gambling industries   \n",
       "3443    201700A  561440.0                                Collection agencies   \n",
       "3464    201700A  325900.0         Other chemical products & preparation mfg.   \n",
       "3493    201700A  425110.0            Business to business electronic markets   \n",
       "3559    201700A  447100.0  Gasoline stations (including convenience store...   \n",
       "3584    201700A  446130.0                               Optical goods stores   \n",
       "3624    201700A  561710.0              Exterminating & pest control services   \n",
       "3666    201700A  484200.0  Specialized freight trucking (including househ...   \n",
       "3706    201700A  722410.0              Drinking places (alcoholic beverages)   \n",
       "3714    201700A  561450.0                                     Credit bureaus   \n",
       "\n",
       "      LOCATION COUNT  TOTAL MEASURE  \n",
       "0                  4            0.0  \n",
       "1                  1            0.0  \n",
       "8                  1            0.0  \n",
       "13                 1            0.0  \n",
       "14                12            0.0  \n",
       "19                 2            0.0  \n",
       "24                 3            0.0  \n",
       "33                 4            0.0  \n",
       "36                 2            0.0  \n",
       "76                 4            0.0  \n",
       "85                 2            0.0  \n",
       "92                 1            0.0  \n",
       "93                 4            0.0  \n",
       "109                3            0.0  \n",
       "148                1            0.0  \n",
       "189                9            0.0  \n",
       "211                1            0.0  \n",
       "232                2            0.0  \n",
       "239                4            0.0  \n",
       "248               12            0.0  \n",
       "253               14            0.0  \n",
       "277                1            0.0  \n",
       "293                1            0.0  \n",
       "300                3            0.0  \n",
       "462                1            0.0  \n",
       "479                1            0.0  \n",
       "529                2            0.0  \n",
       "656                3            0.0  \n",
       "799                2            0.0  \n",
       "968                2            0.0  \n",
       "...              ...            ...  \n",
       "2871               1            0.0  \n",
       "2890               1            0.0  \n",
       "2910               4            0.0  \n",
       "2913               2            0.0  \n",
       "2947               2            0.0  \n",
       "2949               3            0.0  \n",
       "2959               4            0.0  \n",
       "2963               2            0.0  \n",
       "3004               4            0.0  \n",
       "3022               2            0.0  \n",
       "3036               2            0.0  \n",
       "3058               3            0.0  \n",
       "3174               1            0.0  \n",
       "3196              11            0.0  \n",
       "3229               2            0.0  \n",
       "3299               2            0.0  \n",
       "3302               2            0.0  \n",
       "3316               2            0.0  \n",
       "3345              17            0.0  \n",
       "3365              15            0.0  \n",
       "3377               4            0.0  \n",
       "3443               2            0.0  \n",
       "3464               3            0.0  \n",
       "3493               3            0.0  \n",
       "3559               3            0.0  \n",
       "3584               4            0.0  \n",
       "3624               4            0.0  \n",
       "3666               4            0.0  \n",
       "3706               3            0.0  \n",
       "3714               1            0.0  \n",
       "\n",
       "[97 rows x 5 columns]"
      ]
     },
     "execution_count": 154,
     "metadata": {},
     "output_type": "execute_result"
    }
   ],
   "source": [
    "GRI_df.groupby([\"TOTAL MEASURE\"]).get_group(0.0)"
   ]
  },
  {
   "cell_type": "code",
   "execution_count": null,
   "metadata": {
    "collapsed": true
   },
   "outputs": [],
   "source": []
  },
  {
   "cell_type": "code",
   "execution_count": 147,
   "metadata": {},
   "outputs": [
    {
     "data": {
      "text/plain": [
       "1594.95267545039"
      ]
     },
     "execution_count": 147,
     "metadata": {},
     "output_type": "execute_result"
    }
   ],
   "source": [
    "np.mean(GRI_df[\"LOCATION COUNT\"])"
   ]
  },
  {
   "cell_type": "code",
   "execution_count": 148,
   "metadata": {},
   "outputs": [
    {
     "data": {
      "text/plain": [
       "286154"
      ]
     },
     "execution_count": 148,
     "metadata": {},
     "output_type": "execute_result"
    }
   ],
   "source": [
    "np.max(GRI_df[\"LOCATION COUNT\"])"
   ]
  },
  {
   "cell_type": "code",
   "execution_count": 149,
   "metadata": {},
   "outputs": [
    {
     "data": {
      "text/plain": [
       "1"
      ]
     },
     "execution_count": 149,
     "metadata": {},
     "output_type": "execute_result"
    }
   ],
   "source": [
    "np.min(GRI_df[\"LOCATION COUNT\"])"
   ]
  },
  {
   "cell_type": "markdown",
   "metadata": {},
   "source": [
    "* Total Measures based on NAICS"
   ]
  },
  {
   "cell_type": "code",
   "execution_count": 142,
   "metadata": {},
   "outputs": [
    {
     "data": {
      "image/png": "[encoded data removed]",
      "text/plain": [
       "<matplotlib.figure.Figure at 0x7f0f8c0f7eb8>"
      ]
     },
     "metadata": {},
     "output_type": "display_data"
    }
   ],
   "source": [
    "y = GRI_df[\"TOTAL MEASURE\"]\n",
    "x = GRI_df[\"LOCATION COUNT\"]\n",
    "plt.figure(figsize=(12,9))\n",
    "plt.scatter(x,y)\n",
    "plt.xlabel(\"Location Count\")\n",
    "plt.ylabel(\"Total Measure\")\n",
    "plt.show()"
   ]
  },
  {
   "cell_type": "code",
   "execution_count": 103,
   "metadata": {},
   "outputs": [
    {
     "data": {
      "text/plain": [
       "<seaborn.axisgrid.PairGrid at 0x7f0f90297a20>"
      ]
     },
     "execution_count": 103,
     "metadata": {},
     "output_type": "execute_result"
    },
    {
     "data": {
      "image/png": "[encoded data removed]",
      "text/plain": [
       "<matplotlib.figure.Figure at 0x7f0f8fe26898>"
      ]
     },
     "metadata": {},
     "output_type": "display_data"
    }
   ],
   "source": [
    "sns.pairplot(GRI_df, size = 3.5)"
   ]
  },
  {
   "cell_type": "code",
   "execution_count": 104,
   "metadata": {},
   "outputs": [
    {
     "data": {
      "text/plain": [
       "Index(['TAX PERIOD', 'NAICS', 'PRIMARY NAICS DESCRIPTION', 'LOCATION COUNT',\n",
       "       'TOTAL MEASURE'],\n",
       "      dtype='object')"
      ]
     },
     "execution_count": 104,
     "metadata": {},
     "output_type": "execute_result"
    }
   ],
   "source": [
    "GRI_df.columns"
   ]
  },
  {
   "cell_type": "code",
   "execution_count": 105,
   "metadata": {},
   "outputs": [
    {
     "data": {
      "text/plain": [
       "array(['200500A', '200600A', '201500A', '200900A', '200800A', '200700A',\n",
       "       '201000A', '201100A', '201200A', '201600A', '201400A', '201300A',\n",
       "       '201700A'], dtype=object)"
      ]
     },
     "execution_count": 105,
     "metadata": {},
     "output_type": "execute_result"
    }
   ],
   "source": [
    "GRI_df[\"TAX PERIOD\"].unique()"
   ]
  },
  {
   "cell_type": "code",
   "execution_count": null,
   "metadata": {
    "collapsed": true
   },
   "outputs": [],
   "source": []
  },
  {
   "cell_type": "code",
   "execution_count": 140,
   "metadata": {
    "collapsed": true
   },
   "outputs": [],
   "source": [
    "to_drop = [\"TAX PERIOD\",\"PRIMARY NAICS DESCRIPTION\"]\n",
    "\n",
    "GRI_corr_df = GRI_df.drop(to_drop,axis =1)\n",
    "GRI_corr_df = GRI_corr_df.corr()"
   ]
  },
  {
   "cell_type": "code",
   "execution_count": 138,
   "metadata": {},
   "outputs": [
    {
     "data": {
      "text/plain": [
       "<matplotlib.axes._subplots.AxesSubplot at 0x7f0f8d261be0>"
      ]
     },
     "execution_count": 138,
     "metadata": {},
     "output_type": "execute_result"
    },
    {
     "data": {
      "image/png": "[encoded data removed]",
      "text/plain": [
       "<matplotlib.figure.Figure at 0x7f0f8d7c02e8>"
      ]
     },
     "metadata": {},
     "output_type": "display_data"
    }
   ],
   "source": [
    "fig , ax = plt.subplots(figsize = (10,8))\n",
    "sns.heatmap(GRI_corr_df, annot=True, linewidths= .5, ax = ax)"
   ]
  },
  {
   "cell_type": "markdown",
   "metadata": {},
   "source": [
    "* Based on the heatmap:\n",
    "----\n",
    "* Location Count and Total Measure are high correlated (%95)\n",
    "* There is no correlation between NAICS and other features"
   ]
  },
  {
   "cell_type": "markdown",
   "metadata": {},
   "source": [
    "## Groupby TAX PERIOD"
   ]
  },
  {
   "cell_type": "markdown",
   "metadata": {},
   "source": [
    "* TAX PERIOD 2017:"
   ]
  },
  {
   "cell_type": "code",
   "execution_count": 106,
   "metadata": {},
   "outputs": [
    {
     "data": {
      "text/html": [
       "<div>\n",
       "<table border=\"1\" class=\"dataframe\">\n",
       "  <thead>\n",
       "    <tr style=\"text-align: right;\">\n",
       "      <th></th>\n",
       "      <th>TAX PERIOD</th>\n",
       "      <th>NAICS</th>\n",
       "      <th>PRIMARY NAICS DESCRIPTION</th>\n",
       "      <th>LOCATION COUNT</th>\n",
       "      <th>TOTAL MEASURE</th>\n",
       "    </tr>\n",
       "  </thead>\n",
       "  <tbody>\n",
       "    <tr>\n",
       "      <th>70</th>\n",
       "      <td>201700A</td>\n",
       "      <td>485300.0</td>\n",
       "      <td>Taxi &amp; limousine service</td>\n",
       "      <td>25</td>\n",
       "      <td>108308.0</td>\n",
       "    </tr>\n",
       "    <tr>\n",
       "      <th>76</th>\n",
       "      <td>201700A</td>\n",
       "      <td>523130.0</td>\n",
       "      <td>Commodity contracts dealers</td>\n",
       "      <td>4</td>\n",
       "      <td>0.0</td>\n",
       "    </tr>\n",
       "    <tr>\n",
       "      <th>80</th>\n",
       "      <td>201700A</td>\n",
       "      <td>561790.0</td>\n",
       "      <td>Other services to buildings &amp; dwellings</td>\n",
       "      <td>63</td>\n",
       "      <td>2408833.0</td>\n",
       "    </tr>\n",
       "    <tr>\n",
       "      <th>85</th>\n",
       "      <td>201700A</td>\n",
       "      <td>423700.0</td>\n",
       "      <td>Hardware, &amp; plumbing &amp; heating equipment  &amp; su...</td>\n",
       "      <td>2</td>\n",
       "      <td>0.0</td>\n",
       "    </tr>\n",
       "    <tr>\n",
       "      <th>96</th>\n",
       "      <td>201700A</td>\n",
       "      <td>541800.0</td>\n",
       "      <td>Advertising &amp; related services</td>\n",
       "      <td>101</td>\n",
       "      <td>6184044.0</td>\n",
       "    </tr>\n",
       "  </tbody>\n",
       "</table>\n",
       "</div>"
      ],
      "text/plain": [
       "   TAX PERIOD     NAICS                          PRIMARY NAICS DESCRIPTION  \\\n",
       "70    201700A  485300.0                           Taxi & limousine service   \n",
       "76    201700A  523130.0                        Commodity contracts dealers   \n",
       "80    201700A  561790.0            Other services to buildings & dwellings   \n",
       "85    201700A  423700.0  Hardware, & plumbing & heating equipment  & su...   \n",
       "96    201700A  541800.0                     Advertising & related services   \n",
       "\n",
       "    LOCATION COUNT  TOTAL MEASURE  \n",
       "70              25       108308.0  \n",
       "76               4            0.0  \n",
       "80              63      2408833.0  \n",
       "85               2            0.0  \n",
       "96             101      6184044.0  "
      ]
     },
     "execution_count": 106,
     "metadata": {},
     "output_type": "execute_result"
    }
   ],
   "source": [
    "Tax_2017_df = GRI_df.groupby([\"TAX PERIOD\"]).get_group(\"201700A\")\n",
    "Tax_2017_df.head()"
   ]
  },
  {
   "cell_type": "code",
   "execution_count": 108,
   "metadata": {},
   "outputs": [
    {
     "data": {
      "text/html": [
       "<div>\n",
       "<table border=\"1\" class=\"dataframe\">\n",
       "  <thead>\n",
       "    <tr style=\"text-align: right;\">\n",
       "      <th></th>\n",
       "      <th>TAX PERIOD</th>\n",
       "      <th>NAICS</th>\n",
       "      <th>PRIMARY NAICS DESCRIPTION</th>\n",
       "      <th>LOCATION COUNT</th>\n",
       "      <th>TOTAL MEASURE</th>\n",
       "    </tr>\n",
       "  </thead>\n",
       "  <tbody>\n",
       "    <tr>\n",
       "      <th>0</th>\n",
       "      <td>200500A</td>\n",
       "      <td>311600.0</td>\n",
       "      <td>Animal Slaughtering and Processing</td>\n",
       "      <td>4</td>\n",
       "      <td>0.0</td>\n",
       "    </tr>\n",
       "    <tr>\n",
       "      <th>1</th>\n",
       "      <td>200500A</td>\n",
       "      <td>441210.0</td>\n",
       "      <td>Recreational vehicle dealers (including motor ...</td>\n",
       "      <td>1</td>\n",
       "      <td>0.0</td>\n",
       "    </tr>\n",
       "    <tr>\n",
       "      <th>2</th>\n",
       "      <td>200500A</td>\n",
       "      <td>444110.0</td>\n",
       "      <td>Home centers</td>\n",
       "      <td>12</td>\n",
       "      <td>53131236.0</td>\n",
       "    </tr>\n",
       "    <tr>\n",
       "      <th>3</th>\n",
       "      <td>200600A</td>\n",
       "      <td>326000.0</td>\n",
       "      <td>Plastics &amp; rubber products mfg.</td>\n",
       "      <td>36</td>\n",
       "      <td>35542598.0</td>\n",
       "    </tr>\n",
       "    <tr>\n",
       "      <th>4</th>\n",
       "      <td>200600A</td>\n",
       "      <td>541360.0</td>\n",
       "      <td>Geophysical surveying &amp; mapping services</td>\n",
       "      <td>24</td>\n",
       "      <td>4186978.0</td>\n",
       "    </tr>\n",
       "  </tbody>\n",
       "</table>\n",
       "</div>"
      ],
      "text/plain": [
       "  TAX PERIOD     NAICS                          PRIMARY NAICS DESCRIPTION  \\\n",
       "0    200500A  311600.0                Animal Slaughtering and Processing    \n",
       "1    200500A  441210.0  Recreational vehicle dealers (including motor ...   \n",
       "2    200500A  444110.0                                       Home centers   \n",
       "3    200600A  326000.0                    Plastics & rubber products mfg.   \n",
       "4    200600A  541360.0           Geophysical surveying & mapping services   \n",
       "\n",
       "   LOCATION COUNT  TOTAL MEASURE  \n",
       "0               4            0.0  \n",
       "1               1            0.0  \n",
       "2              12     53131236.0  \n",
       "3              36     35542598.0  \n",
       "4              24      4186978.0  "
      ]
     },
     "execution_count": 108,
     "metadata": {},
     "output_type": "execute_result"
    }
   ],
   "source": [
    "GRI_df.head()"
   ]
  },
  {
   "cell_type": "markdown",
   "metadata": {},
   "source": [
    "### In 2017 Tax Period Total Measure = 0.0"
   ]
  },
  {
   "cell_type": "code",
   "execution_count": 114,
   "metadata": {},
   "outputs": [
    {
     "data": {
      "text/html": [
       "<div>\n",
       "<table border=\"1\" class=\"dataframe\">\n",
       "  <thead>\n",
       "    <tr style=\"text-align: right;\">\n",
       "      <th></th>\n",
       "      <th>TAX PERIOD</th>\n",
       "      <th>NAICS</th>\n",
       "      <th>PRIMARY NAICS DESCRIPTION</th>\n",
       "      <th>LOCATION COUNT</th>\n",
       "      <th>TOTAL MEASURE</th>\n",
       "    </tr>\n",
       "  </thead>\n",
       "  <tbody>\n",
       "    <tr>\n",
       "      <th>76</th>\n",
       "      <td>201700A</td>\n",
       "      <td>523130.0</td>\n",
       "      <td>Commodity contracts dealers</td>\n",
       "      <td>4</td>\n",
       "      <td>0.0</td>\n",
       "    </tr>\n",
       "    <tr>\n",
       "      <th>85</th>\n",
       "      <td>201700A</td>\n",
       "      <td>423700.0</td>\n",
       "      <td>Hardware, &amp; plumbing &amp; heating equipment  &amp; su...</td>\n",
       "      <td>2</td>\n",
       "      <td>0.0</td>\n",
       "    </tr>\n",
       "    <tr>\n",
       "      <th>109</th>\n",
       "      <td>201700A</td>\n",
       "      <td>811420.0</td>\n",
       "      <td>Reupholstery &amp; furniture repair</td>\n",
       "      <td>3</td>\n",
       "      <td>0.0</td>\n",
       "    </tr>\n",
       "    <tr>\n",
       "      <th>148</th>\n",
       "      <td>201700A</td>\n",
       "      <td>312000.0</td>\n",
       "      <td>Beverage &amp; tobacco product mfg.</td>\n",
       "      <td>1</td>\n",
       "      <td>0.0</td>\n",
       "    </tr>\n",
       "    <tr>\n",
       "      <th>211</th>\n",
       "      <td>201700A</td>\n",
       "      <td>234110.0</td>\n",
       "      <td>Highway and Street Construction (1997 NAICS)</td>\n",
       "      <td>1</td>\n",
       "      <td>0.0</td>\n",
       "    </tr>\n",
       "  </tbody>\n",
       "</table>\n",
       "</div>"
      ],
      "text/plain": [
       "    TAX PERIOD     NAICS                          PRIMARY NAICS DESCRIPTION  \\\n",
       "76     201700A  523130.0                        Commodity contracts dealers   \n",
       "85     201700A  423700.0  Hardware, & plumbing & heating equipment  & su...   \n",
       "109    201700A  811420.0                    Reupholstery & furniture repair   \n",
       "148    201700A  312000.0                    Beverage & tobacco product mfg.   \n",
       "211    201700A  234110.0       Highway and Street Construction (1997 NAICS)   \n",
       "\n",
       "     LOCATION COUNT  TOTAL MEASURE  \n",
       "76                4            0.0  \n",
       "85                2            0.0  \n",
       "109               3            0.0  \n",
       "148               1            0.0  \n",
       "211               1            0.0  "
      ]
     },
     "execution_count": 114,
     "metadata": {},
     "output_type": "execute_result"
    }
   ],
   "source": [
    "TM_0 = Tax_2017_df.groupby([\"TOTAL MEASURE\"]).get_group(0.0)\n",
    "TM_0.head()"
   ]
  },
  {
   "cell_type": "code",
   "execution_count": 116,
   "metadata": {},
   "outputs": [
    {
     "data": {
      "text/plain": [
       "(68, 5)"
      ]
     },
     "execution_count": 116,
     "metadata": {},
     "output_type": "execute_result"
    }
   ],
   "source": [
    "TM_0.shape"
   ]
  },
  {
   "cell_type": "markdown",
   "metadata": {},
   "source": [
    "### In year 2017-- Tax Period \" 68 \" Primary Descriptions had \" 0.0 \" Total Measure"
   ]
  },
  {
   "cell_type": "code",
   "execution_count": 118,
   "metadata": {
    "collapsed": true
   },
   "outputs": [],
   "source": [
    "tm_0_des = TM_0[\"PRIMARY NAICS DESCRIPTION\"].value_counts()"
   ]
  },
  {
   "cell_type": "code",
   "execution_count": 120,
   "metadata": {},
   "outputs": [
    {
     "data": {
      "text/plain": [
       "Hardware, & plumbing & heating equipment  & supplies    1\n",
       "Rooming & boarding houses                               1\n",
       "Structural Steel Erection Contractors (1997 NAICS)      1\n",
       "Offices of optometrists                                 1\n",
       "Business to business electronic markets                 1\n",
       "Other chemical products & preparation mfg.              1\n",
       "Mail-order houses                                       1\n",
       "Farm supplies                                           1\n",
       "Sugar & confectionery product mfg.                      1\n",
       "Lumber & other construction materials                   1\n",
       "Name: PRIMARY NAICS DESCRIPTION, dtype: int64"
      ]
     },
     "execution_count": 120,
     "metadata": {},
     "output_type": "execute_result"
    }
   ],
   "source": [
    "tm_0_des[:10]"
   ]
  },
  {
   "cell_type": "code",
   "execution_count": null,
   "metadata": {
    "collapsed": true
   },
   "outputs": [],
   "source": []
  }
 ],
 "metadata": {
  "kernelspec": {
   "display_name": "Python 3",
   "language": "python",
   "name": "python3"
  },
  "language_info": {
   "codemirror_mode": {
    "name": "ipython",
    "version": 3
   },
   "file_extension": ".py",
   "mimetype": "text/x-python",
   "name": "python",
   "nbconvert_exporter": "python",
   "pygments_lexer": "ipython3",
   "version": "3.5.2"
  }
 },
 "nbformat": 4,
 "nbformat_minor": 2
}
